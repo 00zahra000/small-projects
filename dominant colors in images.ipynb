{
 "cells": [
  {
   "cell_type": "code",
   "execution_count": 30,
   "metadata": {},
   "outputs": [],
   "source": [
    "import cv2\n",
    "import numpy as np\n",
    "import matplotlib.pyplot as plt\n",
    "from sklearn.cluster import KMeans\n",
    "import imutils"
   ]
  },
  {
   "cell_type": "code",
   "execution_count": 31,
   "metadata": {},
   "outputs": [
    {
     "data": {
      "text/plain": [
       "(900, 1200, 3)"
      ]
     },
     "execution_count": 31,
     "metadata": {},
     "output_type": "execute_result"
    }
   ],
   "source": [
    "# Reading the image\n",
    "image = cv2.imread('flower.jpeg')\n",
    "\n",
    "# Keeping a copy of it for future use\n",
    "image_copy = image.copy()\n",
    "\n",
    "image.shape"
   ]
  },
  {
   "cell_type": "code",
   "execution_count": 32,
   "metadata": {},
   "outputs": [
    {
     "data": {
      "text/plain": [
       "(600, 800, 3)"
      ]
     },
     "execution_count": 32,
     "metadata": {},
     "output_type": "execute_result"
    }
   ],
   "source": [
    "# Preprocessing\n",
    "image = imutils.resize(image, height=600)\n",
    "image.shape"
   ]
  },
  {
   "cell_type": "code",
   "execution_count": 33,
   "metadata": {},
   "outputs": [
    {
     "data": {
      "text/plain": [
       "(480000, 3)"
      ]
     },
     "execution_count": 33,
     "metadata": {},
     "output_type": "execute_result"
    }
   ],
   "source": [
    "# In flattening we keep all the columns of the image after each other to make one column out of it.\n",
    "flattern_image = np.reshape(image,(-1,3))\n",
    "flattern_image.shape"
   ]
  },
  {
   "cell_type": "code",
   "execution_count": 34,
   "metadata": {},
   "outputs": [
    {
     "data": {
      "text/plain": [
       "KMeans(n_clusters=7, random_state=0)"
      ]
     },
     "execution_count": 34,
     "metadata": {},
     "output_type": "execute_result"
    }
   ],
   "source": [
    "# Kmeans model\n",
    "# The colors of image pixels will now be clustered into 7 groups. (or any other number, just set another clusters number)\n",
    "#  These groups will have some centroids which we can think of as the major color of the cluster.\n",
    "\n",
    "# number of clusers\n",
    "clusters = 7\n",
    "model= KMeans(n_clusters=clusters, random_state=0)\n",
    "model.fit(flattern_image)"
   ]
  },
  {
   "cell_type": "code",
   "execution_count": 35,
   "metadata": {},
   "outputs": [
    {
     "name": "stdout",
     "output_type": "stream",
     "text": [
      "[[252 251 251]\n",
      " [115  75 163]\n",
      " [ 38  34  70]\n",
      " [204 194 222]\n",
      " [241 237 239]\n",
      " [ 81 137 153]\n",
      " [159 140 201]]\n"
     ]
    }
   ],
   "source": [
    "dominant_colors= np.array(model.cluster_centers_,dtype='uint')\n",
    "print(dominant_colors)"
   ]
  },
  {
   "cell_type": "code",
   "execution_count": 36,
   "metadata": {},
   "outputs": [
    {
     "name": "stdout",
     "output_type": "stream",
     "text": [
      "[0.66981458 0.02702917 0.02179167 0.05560208 0.16560417 0.01722917\n",
      " 0.04292917]\n"
     ]
    }
   ],
   "source": [
    "\n",
    "percentages = (np.unique(model.labels_, return_counts=True))[1]/ flattern_image.shape[0]\n",
    "print(percentages)\n",
    "\n",
    "# Zipping percentages and colors together. It will consist of 7 tuples (because of 7 clusters)\n",
    "p_and_c = zip(percentages,dominant_colors)\n",
    "\n",
    "# Sort this zip object in descending order\n",
    "# Now the first element in this sorted object will be the percentage of the most dominant color in the image and the color itself.\n",
    "p_and_c = sorted(p_and_c,reverse=True)\n",
    "\n",
    "# print(p_and_c)"
   ]
  },
  {
   "cell_type": "code",
   "execution_count": 37,
   "metadata": {},
   "outputs": [
    {
     "data": {
      "text/plain": [
       "([], [])"
      ]
     },
     "execution_count": 37,
     "metadata": {},
     "output_type": "execute_result"
    },
    {
     "data": {
      "image/png": "[encoded data removed]",
      "text/plain": [
       "<Figure size 864x576 with 7 Axes>"
      ]
     },
     "metadata": {},
     "output_type": "display_data"
    },
    {
     "data": {
      "image/png": "[encoded data removed]",
      "text/plain": [
       "<Figure size 864x576 with 1 Axes>"
      ]
     },
     "metadata": {},
     "output_type": "display_data"
    }
   ],
   "source": [
    "# plotting blocks of dominant colors\n",
    "p_and_c = zip(percentages,dominant_colors)\n",
    "p_and_c = sorted(p_and_c,reverse=True)\n",
    "block = np.ones((50,50,3),dtype='uint')\n",
    "plt.figure(figsize=(12,8))\n",
    "\n",
    "for i in range(clusters):\n",
    "    plt.subplot(1,clusters,i+1)\n",
    "    block[:] = p_and_c[i][1][::-1] # we have done this to convert bgr(opencv) to rgb(matplotlib) \n",
    "    plt.imshow(block)\n",
    "    plt.xticks([])\n",
    "    plt.yticks([])\n",
    "    plt.xlabel(str(round(p_and_c[i][0]*100,2))+'%')\n",
    "bar = np.ones((50,500,3),dtype='uint')\n",
    "plt.figure(figsize=(12,8))\n",
    "plt.title('Proportions of colors in the image')\n",
    "start = 0\n",
    "i = 1\n",
    "for p,c in p_and_c:\n",
    "    end = start+int(p*bar.shape[1])\n",
    "    if i==clusters:\n",
    "        bar[:,start:] = c[::-1]\n",
    "    else:\n",
    "        bar[:,start:end] = c[::-1]\n",
    "    start = end\n",
    "    i+=1\n",
    "\n",
    "plt.imshow(bar)\n",
    "plt.xticks([])\n",
    "plt.yticks([])\n"
   ]
  }
 ],
 "metadata": {
  "interpreter": {
   "hash": "4096ced9b6c193d57927b21c13c9f480a687e41c75a676d3b34b4a1bdcb5d3d7"
  },
  "kernelspec": {
   "display_name": "Python 3.9.10 64-bit",
   "language": "python",
   "name": "python3"
  },
  "language_info": {
   "codemirror_mode": {
    "name": "ipython",
    "version": 3
   },
   "file_extension": ".py",
   "mimetype": "text/x-python",
   "name": "python",
   "nbconvert_exporter": "python",
   "pygments_lexer": "ipython3",
   "version": "3.9.10"
  },
  "orig_nbformat": 4
 },
 "nbformat": 4,
 "nbformat_minor": 2
}
